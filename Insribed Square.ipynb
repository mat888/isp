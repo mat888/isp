{
 "cells": [
  {
   "cell_type": "code",
   "execution_count": 2,
   "metadata": {},
   "outputs": [
    {
     "data": {
      "image/png": "[encoded data removed]",
      "text/plain": [
       "<IPython.core.display.Image object>"
      ]
     },
     "execution_count": 2,
     "metadata": {},
     "output_type": "execute_result"
    }
   ],
   "source": [
    "from IPython.display import Image\n",
    "Image('diagramBeanFullLabel.png')"
   ]
  },
  {
   "cell_type": "markdown",
   "metadata": {},
   "source": [
    "Given an arbitrary Jordan Curve (continuous, closed, non-intersecting 2-d loop), do four points exist on the edge of the curve such that they are vertices of a square?\n",
    "\n",
    "Consider properties of the lines connecting the diagonals of a rhombus:\n",
    "\n",
    "They share a midpoint, they are orthogonal to each other, and if the length of the diagonals is equal, the rhombus is a square. With these properties in mind, we investigate an arbitrary Jordan Curve.\n",
    "\n",
    "Sweeping Midpoints\n",
    "\n",
    "In order to determine a curve of midpoints for a single pair of diagonal vertices, take an infinite line at angle $\\theta$ to the origin, and sweep it through the loop, using its intersections with the edge to determine a midpoint between them. If the curve intercepts the line in more than two points, use the path of the loop as precedent (starting with the point of initial contact between the sweep line and Jordan Curve), and allow the line to move back and forth to define the continuous midpoint curve $\\mu$. The figure above illuminates the order that $\\mu$ generates its curves to remain continuous.\n",
    "\n",
    "This curve includes all possible midpoints at angle $\\theta$, and spans the length of the curve orthogonal to the sweep.\n",
    "\n",
    "Repeat this sweep at an angle orthogonal to $\\theta$ to generate another midpoint curve. Since both of these curves span their orthogonal lengths of the loop, and are continuous, they share in intersection point, $p_{\\theta}$. If $f(\\theta)$ is the function that produces a midpoint curve at angle $\\theta$, it can be reasoned that arbitrarily small changes in $\\theta$ produce arbitrarily small changes in the output curve, $f(\\theta)$, thus it is continuous.\n",
    "\n",
    "Now consider the function $h(\\theta)$, which represents the set of all intersections between two orthogonal midpoint curves $\\mu$ with respect to the primary angle of sweep, $\\theta$. Since $f(\\theta)$ is continuous, the points of intersection also form the continuous curve, $h(\\theta)$. This function is cyclic around ninety degrees, at which point the primary angle of sweep occupies the starting angle of the secondary, and vice versa.\n",
    "\n",
    "Recall that each point in $h(\\theta)$ represents an intersection between two midpoints of the edge of the loop, and define the length the line spans through the midpoint to the corresponding edges of the loop as $l(\\theta)$ for the primary sweep, and $l(\\alpha)$ for the orthogonal sweep. As the curve $h(\\theta)$ progresses, the corresponding lengths of $l(\\theta)$ and $l(\\alpha)$ change continuously - importantly, every ninety degrees the values for these two lengths will have swapped, so either:\n",
    "\n",
    "1. $l_(theta)$ and $l_(alpha)$ start equal to each other, or...\n",
    "2. $l_(theta)$ and $l_(alpha)$ are an inequality, and somewhere between their current value $\\theta$ and the orthogonal angle $\\alpha$ (where they will have swapped values), by the M.V.T, the functions intersect.\n",
    "\n",
    "The point where $l(\\theta)$ and $l(\\alpha)$ are equal represents a point in 2-d space such that two orthogonal lines of equal length share a midpoint between edges of the loop, forming the diagonals of a square."
   ]
  },
  {
   "cell_type": "markdown",
   "metadata": {},
   "source": [
    "Assumptions:\n",
    "\n",
    "1. The special movement of the sweep back and forth to accommodate intersection points greater than two produces a continuous midpoint curve. This concern seems fairly trivial, though it is not rigorously handled. The mechanism comes down to whether a sudden switch of direction along a continuous curve renders the point of direction switch as a discontinuity or not. This seems to be trivially benign as a continuous curve does not lose its continuity based on the direction of travel.\n",
    "\n",
    "2. The intersection curve $h(\\theta)$ produces a fully continuous curve in its ninety degree cycle.\n",
    "This concern comes from the fact that there can exist multiple intersection curves. The conceivable fatal flaw would be that even though every value of $\\theta$ produces some point of intersection, if on intersection curve abruptly ended while another began the arguments that follow would fall apart.\n",
    "\n",
    "The intuition behind doubting this flaw comes from the continuity of the midpoint curves that determine the intersection point, and the guarantee that at least one intersection point exists. With these two properties in mind, it seems unlikely that an intersection curve would spontaneously appear or disappear in the ninety degree cycle, but is not yet addressed rigorously. It seems that if each intersection point is handled independently, the continuity inherited for each midpoint curve ensures that it will not abruptly terminate. From this assumption the 'worst' that could happen is that two or more midpoint curves overlap for some span of values $\\theta$."
   ]
  }
 ],
 "metadata": {
  "kernelspec": {
   "display_name": "Python 3",
   "language": "python",
   "name": "python3"
  },
  "language_info": {
   "codemirror_mode": {
    "name": "ipython",
    "version": 3
   },
   "file_extension": ".py",
   "mimetype": "text/x-python",
   "name": "python",
   "nbconvert_exporter": "python",
   "pygments_lexer": "ipython3",
   "version": "3.6.9"
  }
 },
 "nbformat": 4,
 "nbformat_minor": 2
}
